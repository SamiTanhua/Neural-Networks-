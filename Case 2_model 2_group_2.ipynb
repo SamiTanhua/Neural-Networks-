{
 "cells": [
  {
   "cell_type": "markdown",
   "metadata": {
    "toc": true
   },
   "source": [
    "<h1>Table of Contents<span class=\"tocSkip\"></span></h1>\n",
    "<div class=\"toc\"><ul class=\"toc-item\"><li><span><a href=\"#Case-X.-Template\" data-toc-modified-id=\"Case-X.-Template-1\"><span class=\"toc-item-num\">1&nbsp;&nbsp;</span>Case 2 Model 2. Template</a></span></li><li><span><a href=\"#Background\" data-toc-modified-id=\"Background-2\"><span class=\"toc-item-num\">2&nbsp;&nbsp;</span>Background</a></span></li><li><span><a href=\"#Data-and-preprocessing\" data-toc-modified-id=\"Data-and-preprocessing-3\"><span class=\"toc-item-num\">3&nbsp;&nbsp;</span>Data and preprocessing</a></span></li><li><span><a href=\"#Constructing-the-model-and-training-it\" data-toc-modified-id=\"Constructing the model and training it-4\"><span class=\"toc-item-num\">4&nbsp;&nbsp;</span>Constructing the model and training it</a></span></li><li><span><a href=\"#Results-and-discussion\" data-toc-modified-id=\"Results-and-Discussion-5\"><span class=\"toc-item-num\">5&nbsp;&nbsp;</span>Results and discussion</a></span></li><li><span><a \n",
    "href=\"#Validation-and-results\" data-toc-modified-id=\"Validation-and-discussion-6\"><span class=\"toc-item-num\">6&nbsp;&nbsp;</span>Validation and results</a></span></li><li><span><a\n",
    "href=\"#Conclusions\" data-toc-modified-id=\"Conclusions-7\"><span class=\"toc-item-num\">7&nbsp;&nbsp;</span>Conclusions</a></span></li></ul></div>"
   ]
  },
  {
   "cell_type": "markdown",
   "metadata": {},
   "source": [
    "# Case 2 Model 2. Template\n",
    "Mikko Kettunen, Niklas Koro, Sami Tanhua, Jake Pärssinen - Group 2<br>\n",
    "Last edited: 01.03.2020<br>\n",
    "Neural Networks for Health Technology Applications<br>\n",
    "[Helsinki Metropolia University of Applied Sciences](http://www.metropolia.fi/en/)<br>"
   ]
  },
  {
   "cell_type": "markdown",
   "metadata": {},
   "source": [
    "# Background\n",
    "The aim of this notebook is to create a convolutional neural network which classifies if a patient has pneumonia or not, based on X-ray images taken."
   ]
  },
  {
   "cell_type": "markdown",
   "metadata": {},
   "source": [
    "# Data and preprocessing"
   ]
  },
  {
   "cell_type": "markdown",
   "metadata": {},
   "source": [
    "Imports"
   ]
  },
  {
   "cell_type": "code",
   "execution_count": 2,
   "metadata": {},
   "outputs": [
    {
     "name": "stdout",
     "output_type": "stream",
     "text": [
      "Populating the interactive namespace from numpy and matplotlib\n"
     ]
    },
    {
     "name": "stderr",
     "output_type": "stream",
     "text": [
      "C:\\Users\\mikko\\Anaconda3\\lib\\site-packages\\IPython\\core\\magics\\pylab.py:160: UserWarning: pylab import has clobbered these variables: ['random', 'power', 'fft', 'linalg', 'info']\n",
      "`%matplotlib` prevents importing * from pylab and numpy\n",
      "  \"\\n`%matplotlib` prevents importing * from pylab and numpy\"\n"
     ]
    }
   ],
   "source": [
    "from tensorflow.keras.datasets import mnist\n",
    "from tensorflow.keras import models\n",
    "from tensorflow.keras import layers\n",
    "from tensorflow.keras import optimizers\n",
    "from tensorflow.keras.layers import Dropout\n",
    "from tensorflow.keras.layers import Dense, Activation\n",
    "from tensorflow.keras.models import Sequential\n",
    "from tensorflow.keras import regularizers\n",
    "from tensorflow.keras.preprocessing.image import ImageDataGenerator\n",
    "from tensorflow.keras.callbacks import ModelCheckpoint\n",
    "from keras.preprocessing import image\n",
    "from keras.models import Model\n",
    "from keras.layers import Dense, GlobalAveragePooling2D\n",
    "from keras import backend as K\n",
    "import os\n",
    "\n",
    "%pylab inline\n",
    "import numpy as np\n",
    "import seaborn as sns\n",
    "import pandas as pd\n",
    "from pylab import *\n",
    "import tensorflow as tf\n",
    "import matplotlib.pyplot as plt\n",
    "from sklearn.metrics import *\n",
    "from sklearn.metrics import roc_curve\n",
    "from sklearn.metrics import roc_auc_score\n",
    "from sklearn import metrics\n",
    "from sklearn import preprocessing\n",
    "\n",
    "#from tensorflow.keras.models import Sequential\n",
    "#from tensorflow.keras.layers import Dense, Activation\n",
    "#from tensorflow.keras.models import Model\n",
    "#from tensorflow.keras import regularizers\n",
    "#from tensorflow.keras.layers import Dropout\n",
    "#from tensorflow.keras.callbacks import ModelCheckpoint\n",
    "#from keras.applications import VGG19\n",
    "#from keras.preprocessing import image\n",
    "#from keras.models import Model\n",
    "#from keras.layers import Dense, GlobalAveragePooling2D\n",
    "#from keras import backend as K\n",
    "#from sklearn.metrics import roc_curve\n",
    "#from sklearn.metrics import roc_auc_score"
   ]
  },
  {
   "cell_type": "markdown",
   "metadata": {},
   "source": [
    "1. Images are in 60/20/20 division for training, testing and validation\n",
    "<br>\n",
    "<br>\n",
    "2. In folders, images are divided into 2 subdirectories as this is a binary classification problem.\n",
    "<br>\n",
    "<br>\n",
    "3. CNN frameworks requires that images have fixed sizes in training. We chose the target size to be 150X150 pixels.\n",
    "<br>\n",
    "<br>\n",
    "4. Different batch sizes were tested, 64 gave the best results. It is commonly suggested that batch size is a power of 2 due to how GPUs are coded. This ables the GPU to distribute the workload better.\n",
    "<br>\n",
    "<br>\n",
    "5. We used ImageDataGenerators, because we have a small database and by creating more images we can increase our model accuracy and evade overfitting.\n",
    "<br>\n",
    "<br>\n",
    "6. Data augmentation also reduces overfitting by creating variations of the images. The values of the augmentetion were default values used in most examples.\n",
    "<br>\n",
    "<br>\n",
    "7. In testing and validation we defined the huffle variable to be false, because otherwise the images are shuffled and the program doesn't know which is the right label."
   ]
  },
  {
   "cell_type": "code",
   "execution_count": 3,
   "metadata": {},
   "outputs": [],
   "source": [
    "# Define train/test/validation directories\n",
    "train_dir = 'Case2_XRay/train'\n",
    "test_dir = 'Case2_XRay/test'\n",
    "validation_dir = 'Case2_XRay/validation'\n",
    "\n",
    "TS = (150, 150) # Image size\n",
    "BS = 64 # Batch size\n",
    "\n",
    "# Datagenerators and image augmentation\n",
    "tg = ImageDataGenerator(rescale=1./255,\n",
    "    rotation_range=40,\n",
    "    width_shift_range=0.2,\n",
    "    height_shift_range=0.2,\n",
    "    shear_range=0.2,\n",
    "    zoom_range=0.2,\n",
    "    horizontal_flip=True)\n",
    "\n",
    "devg = ImageDataGenerator(rescale=1./255)"
   ]
  },
  {
   "cell_type": "code",
   "execution_count": 4,
   "metadata": {},
   "outputs": [
    {
     "name": "stdout",
     "output_type": "stream",
     "text": [
      "Found 3512 images belonging to 2 classes.\n",
      "Found 1172 images belonging to 2 classes.\n",
      "Found 1172 images belonging to 2 classes.\n"
     ]
    }
   ],
   "source": [
    "train_generator = tg.flow_from_directory(\n",
    "    train_dir,\n",
    "    target_size = TS,\n",
    "    batch_size = BS,\n",
    "    class_mode='binary')\n",
    "\n",
    "dev_generator = devg.flow_from_directory(\n",
    "    validation_dir,\n",
    "    target_size = TS,\n",
    "    batch_size = BS,\n",
    "    shuffle = False,\n",
    "    class_mode='binary')\n",
    "\n",
    "test_generator = devg.flow_from_directory(\n",
    "    test_dir,\n",
    "    target_size = TS,\n",
    "    batch_size = BS,\n",
    "    shuffle = False,\n",
    "    class_mode='binary')"
   ]
  },
  {
   "cell_type": "markdown",
   "metadata": {},
   "source": [
    "We tested the generator by printing 5 batches of data to check if the generator works so that the inputs and outputs have the same size."
   ]
  },
  {
   "cell_type": "code",
   "execution_count": 5,
   "metadata": {},
   "outputs": [
    {
     "name": "stdout",
     "output_type": "stream",
     "text": [
      "data batch shape: (64, 150, 150, 3)\n",
      "labels batch shape: (64,)\n",
      "data batch shape: (64, 150, 150, 3)\n",
      "labels batch shape: (64,)\n",
      "data batch shape: (64, 150, 150, 3)\n",
      "labels batch shape: (64,)\n",
      "data batch shape: (64, 150, 150, 3)\n",
      "labels batch shape: (64,)\n",
      "data batch shape: (64, 150, 150, 3)\n",
      "labels batch shape: (64,)\n",
      "data batch shape: (64, 150, 150, 3)\n",
      "labels batch shape: (64,)\n"
     ]
    }
   ],
   "source": [
    "# Test the generator\n",
    "i = 0\n",
    "for data_batch, labels_batch in train_generator:\n",
    "    print('data batch shape:', data_batch.shape)\n",
    "    print('labels batch shape:', labels_batch.shape)\n",
    "    i = i + 1\n",
    "    if i > 5:\n",
    "        break"
   ]
  },
  {
   "cell_type": "markdown",
   "metadata": {},
   "source": [
    "We tested that the image is the right size and the augmentation has altered the image in some way."
   ]
  },
  {
   "cell_type": "code",
   "execution_count": 14,
   "metadata": {},
   "outputs": [
    {
     "data": {
      "image/png": "[encoded data removed]",
      "text/plain": [
       "<Figure size 432x288 with 1 Axes>"
      ]
     },
     "metadata": {
      "needs_background": "light"
     },
     "output_type": "display_data"
    }
   ],
   "source": [
    "# Check the first image of the batch\n",
    "imshow(data_batch[0])\n",
    "show()"
   ]
  },
  {
   "cell_type": "markdown",
   "metadata": {},
   "source": [
    "# Constructing the model and training it"
   ]
  },
  {
   "cell_type": "markdown",
   "metadata": {},
   "source": [
    "We wanted to use some model that was specially build for detecting phenomia.<br> We chose to use a model that was used in a research article \"An Efficient Deep Learning Approach to Pneumonia Classification in Healthcare\".\n",
    "https://www.hindawi.com/journals/jhe/2019/4180949/ <br>"
   ]
  },
  {
   "cell_type": "code",
   "execution_count": 7,
   "metadata": {},
   "outputs": [
    {
     "name": "stdout",
     "output_type": "stream",
     "text": [
      "WARNING:tensorflow:From C:\\Users\\mikko\\Anaconda3\\lib\\site-packages\\tensorflow\\python\\ops\\init_ops.py:1251: calling VarianceScaling.__init__ (from tensorflow.python.ops.init_ops) with dtype is deprecated and will be removed in a future version.\n",
      "Instructions for updating:\n",
      "Call initializer instance with the dtype argument instead of passing it to the constructor\n"
     ]
    }
   ],
   "source": [
    "# Construct Model2\n",
    "# https://www.hindawi.com/journals/jhe/2019/4180949/\n",
    "network = models.Sequential()\n",
    "network.add(layers.Conv2D(32, (3,3), activation = 'relu', \n",
    "                          padding = \"same\",input_shape=(150,150,3)))\n",
    "\n",
    "network.add(layers.MaxPooling2D((2,2)))\n",
    "\n",
    "network.add(layers.Conv2D(62, (3,3), activation = 'relu'))\n",
    "\n",
    "network.add(layers.MaxPooling2D((2,2)))\n",
    "\n",
    "network.add(layers.Conv2D(128, (3,3), activation = 'relu'))\n",
    "\n",
    "network.add(layers.MaxPooling2D((2,2)))\n",
    "\n",
    "network.add(layers.Conv2D(128, (3,3), activation = 'relu'))\n",
    "\n",
    "network.add(layers.MaxPooling2D((2,2)))\n",
    "\n",
    "network.add(layers.Flatten())\n",
    "\n",
    "network.add(Dropout(0.5))\n",
    "\n",
    "network.add(layers.Dense(512, activation = 'relu'))\n",
    "\n",
    "network.add(layers.Dense(1, activation = 'sigmoid'))\n",
    "\n",
    "#network.summary()\n",
    "tf.get_logger().setLevel('INFO') #Hide tensorflow errors, show only info"
   ]
  },
  {
   "cell_type": "markdown",
   "metadata": {},
   "source": [
    "1. We defined our metrics in advance to avoid increasing indexing in metrics.\n",
    "<br>\n",
    "<br>\n",
    "2. We chosed RMSprop for the optimizer, because it is a popular and widely used optimizer and it worked for us. We used the default values, because they worked well and it's recommended not to alter them much.\n",
    "<br>\n",
    "<br>\n",
    "3. We chose binary_crossentropy for ous loss function, because this is a binary classification problem and we want a probability between 0-1 of the patient to have pneumonia or not.\n",
    "<br>\n",
    "<br>\n",
    "4. The threshold for the SensitivityATSpecificity was chosen by testing which one got the best results in terms of balance between false positive and false negative numbers."
   ]
  },
  {
   "cell_type": "code",
   "execution_count": 80,
   "metadata": {},
   "outputs": [],
   "source": [
    "import tensorflow as tf\n",
    "\n",
    "# Define metrics\n",
    "my_metrics = [tf.keras.metrics.SensitivityAtSpecificity(0.7)]\n",
    "\n",
    "# Compile model\n",
    "network.compile(\n",
    "    optimizer = optimizers.RMSprop(learning_rate=0.001, rho=0.9),\n",
    "    loss = 'binary_crossentropy',\n",
    "    metrics= my_metrics)\n",
    "\n",
    "tf.get_logger().setLevel('INFO') #Hide tensorflow errors, show only info"
   ]
  },
  {
   "cell_type": "code",
   "execution_count": 81,
   "metadata": {},
   "outputs": [
    {
     "name": "stdout",
     "output_type": "stream",
     "text": [
      "Training ...Epoch 1/10\n",
      "19/20 [===========================>..] - ETA: 2s - loss: 0.3857 - sensitivity_at_specificity_6: 0.8715\n",
      "Epoch 00001: val_sensitivity_at_specificity_6 improved from -inf to 0.96491, saving model to weights6.hdf5\n",
      "20/20 [==============================] - 85s 4s/step - loss: 0.3858 - sensitivity_at_specificity_6: 0.8776 - val_loss: 0.2962 - val_sensitivity_at_specificity_6: 0.9649\n",
      "Epoch 2/10\n",
      "19/20 [===========================>..] - ETA: 2s - loss: 0.2963 - sensitivity_at_specificity_6: 0.9439\n",
      "Epoch 00002: val_sensitivity_at_specificity_6 improved from 0.96491 to 0.96959, saving model to weights6.hdf5\n",
      "20/20 [==============================] - 94s 5s/step - loss: 0.2993 - sensitivity_at_specificity_6: 0.9405 - val_loss: 0.2465 - val_sensitivity_at_specificity_6: 0.9696\n",
      "Epoch 3/10\n",
      "19/20 [===========================>..] - ETA: 2s - loss: 0.3169 - sensitivity_at_specificity_6: 0.9349\n",
      "Epoch 00003: val_sensitivity_at_specificity_6 did not improve from 0.96959\n",
      "20/20 [==============================] - 105s 5s/step - loss: 0.3149 - sensitivity_at_specificity_6: 0.9379 - val_loss: 0.3457 - val_sensitivity_at_specificity_6: 0.9614\n",
      "Epoch 4/10\n",
      "19/20 [===========================>..] - ETA: 2s - loss: 0.2973 - sensitivity_at_specificity_6: 0.9424\n",
      "Epoch 00004: val_sensitivity_at_specificity_6 did not improve from 0.96959\n",
      "20/20 [==============================] - 107s 5s/step - loss: 0.2992 - sensitivity_at_specificity_6: 0.9377 - val_loss: 0.3667 - val_sensitivity_at_specificity_6: 0.9439\n",
      "Epoch 5/10\n",
      "19/20 [===========================>..] - ETA: 2s - loss: 0.2710 - sensitivity_at_specificity_6: 0.9456\n",
      "Epoch 00005: val_sensitivity_at_specificity_6 did not improve from 0.96959\n",
      "20/20 [==============================] - 106s 5s/step - loss: 0.2767 - sensitivity_at_specificity_6: 0.9449 - val_loss: 0.4339 - val_sensitivity_at_specificity_6: 0.9485\n",
      "Epoch 6/10\n",
      "19/20 [===========================>..] - ETA: 2s - loss: 0.2805 - sensitivity_at_specificity_6: 0.9477\n",
      "Epoch 00006: val_sensitivity_at_specificity_6 improved from 0.96959 to 0.98246, saving model to weights6.hdf5\n",
      "20/20 [==============================] - 98s 5s/step - loss: 0.2775 - sensitivity_at_specificity_6: 0.9473 - val_loss: 0.2095 - val_sensitivity_at_specificity_6: 0.9825\n",
      "Epoch 7/10\n",
      "19/20 [===========================>..] - ETA: 2s - loss: 0.2830 - sensitivity_at_specificity_6: 0.9462\n",
      "Epoch 00007: val_sensitivity_at_specificity_6 did not improve from 0.98246\n",
      "20/20 [==============================] - 96s 5s/step - loss: 0.2795 - sensitivity_at_specificity_6: 0.9456 - val_loss: 0.2465 - val_sensitivity_at_specificity_6: 0.9731\n",
      "Epoch 8/10\n",
      "19/20 [===========================>..] - ETA: 2s - loss: 0.3195 - sensitivity_at_specificity_6: 0.9361\n",
      "Epoch 00008: val_sensitivity_at_specificity_6 did not improve from 0.98246\n",
      "20/20 [==============================] - 96s 5s/step - loss: 0.3211 - sensitivity_at_specificity_6: 0.9353 - val_loss: 0.2346 - val_sensitivity_at_specificity_6: 0.9708\n",
      "Epoch 9/10\n",
      "19/20 [===========================>..] - ETA: 3s - loss: 0.2701 - sensitivity_at_specificity_6: 0.9370\n",
      "Epoch 00009: val_sensitivity_at_specificity_6 did not improve from 0.98246\n",
      "20/20 [==============================] - 117s 6s/step - loss: 0.2873 - sensitivity_at_specificity_6: 0.9326 - val_loss: 0.4569 - val_sensitivity_at_specificity_6: 0.9684\n",
      "Epoch 10/10\n",
      "19/20 [===========================>..] - ETA: 3s - loss: 0.2856 - sensitivity_at_specificity_6: 0.9439\n",
      "Epoch 00010: val_sensitivity_at_specificity_6 did not improve from 0.98246\n",
      "20/20 [==============================] - 110s 6s/step - loss: 0.2874 - sensitivity_at_specificity_6: 0.9458 - val_loss: 0.2540 - val_sensitivity_at_specificity_6: 0.9813\n"
     ]
    }
   ],
   "source": [
    "#Save the best weights\n",
    "filepath=\"weights6.hdf5\"\n",
    "checkpoint = ModelCheckpoint(filepath,\n",
    "                            monitor='val_sensitivity_at_specificity_6',  \n",
    "                            verbose=1, \n",
    "                            save_best_only=True, mode='max')\n",
    "\n",
    "callbacks_list = [checkpoint]\n",
    "\n",
    "E = 10 # Number of epochs\n",
    "\n",
    "# Train the model\n",
    "print('Training ...', end='')\n",
    "history = network.fit_generator(\n",
    "    train_generator,\n",
    "    steps_per_epoch = 20,\n",
    "    verbose = 1, \n",
    "    epochs = E,\n",
    "    validation_data = dev_generator,\n",
    "    validation_steps = 40,\n",
    "    callbacks=callbacks_list)\n",
    "\n",
    "tf.get_logger().setLevel('INFO') #Hide tensorflow errors, show only info"
   ]
  },
  {
   "cell_type": "markdown",
   "metadata": {},
   "source": [
    "# Results and discussion"
   ]
  },
  {
   "cell_type": "markdown",
   "metadata": {},
   "source": [
    "We defined the labels from the training and then tested how the model predicted the outcomes."
   ]
  },
  {
   "cell_type": "code",
   "execution_count": 82,
   "metadata": {},
   "outputs": [],
   "source": [
    "labels = dev_generator.classes # Outputs from training\n",
    "predicted = network.predict_generator(dev_generator).flatten()  # Predicted values"
   ]
  },
  {
   "cell_type": "markdown",
   "metadata": {},
   "source": [
    "We plotted the ROC curve to determine how good our model performs. As can been seen from the ROC curve, when the true positive rate exceeds a value of 0.8, the false positive rate starts to rise. Analysing the ROC curve, we can come into a conclusion that we can achieve a true positive rate of about 0.90 before our model starts to classify too many cases falsely negative."
   ]
  },
  {
   "cell_type": "code",
   "execution_count": 83,
   "metadata": {},
   "outputs": [
    {
     "data": {
      "image/png": "[encoded data removed]",
      "text/plain": [
       "<Figure size 432x288 with 1 Axes>"
      ]
     },
     "metadata": {
      "needs_background": "light"
     },
     "output_type": "display_data"
    }
   ],
   "source": [
    "# Calculate ROC curve\n",
    "fpr, tpr, thresholds = roc_curve(labels, predicted, pos_label = 1)\n",
    "\n",
    "# Plot ROC curve\n",
    "plot(fpr, tpr)\n",
    "plot([0, 1], [0, 1], 'r:')\n",
    "xlabel('False positive rate')\n",
    "ylabel('True positive rate')\n",
    "title('ROC curve')\n",
    "xlim([0, 1])\n",
    "ylim([0, 1])\n",
    "grid()"
   ]
  },
  {
   "cell_type": "markdown",
   "metadata": {},
   "source": [
    "We printed a confusion matrix and classification report from our results to see how many false negatives,false positives, true negatives and true positives did our model produce. The result show that the model predicts pneumonia cases  better than normal cases."
   ]
  },
  {
   "cell_type": "code",
   "execution_count": 84,
   "metadata": {},
   "outputs": [
    {
     "name": "stdout",
     "output_type": "stream",
     "text": [
      "Confusion matrix (machine learning way):\n",
      "[[307  10]\n",
      " [148 707]]\n",
      "Confusion matrix (medicine way):\n",
      "[[707 148]\n",
      " [ 10 307]]\n"
     ]
    }
   ],
   "source": [
    "# Confusion matrix\n",
    "print('Confusion matrix (machine learning way):')\n",
    "cm = confusion_matrix(labels, predicted > 0.6)\n",
    "print(cm)\n",
    "tn, fp, fn, tp = confusion_matrix(labels, predicted > 0.6).ravel()\n",
    "print('Confusion matrix (medicine way):')\n",
    "print(array([[tp, fn], [fp, tn]]))"
   ]
  },
  {
   "cell_type": "code",
   "execution_count": 85,
   "metadata": {},
   "outputs": [
    {
     "name": "stdout",
     "output_type": "stream",
     "text": [
      "               precision    recall  f1-score   support\n",
      "\n",
      "   Normal (0)       0.67      0.97      0.80       317\n",
      "Pneumonia (1)       0.99      0.83      0.90       855\n",
      "\n",
      "     accuracy                           0.87      1172\n",
      "    macro avg       0.83      0.90      0.85      1172\n",
      " weighted avg       0.90      0.87      0.87      1172\n",
      "\n"
     ]
    }
   ],
   "source": [
    "# Classification report\n",
    "cr = classification_report(labels, predicted > 0.6, target_names = ['Normal (0)', 'Pneumonia (1)'])\n",
    "print(cr)"
   ]
  },
  {
   "cell_type": "markdown",
   "metadata": {},
   "source": [
    "# Validation and results"
   ]
  },
  {
   "cell_type": "markdown",
   "metadata": {},
   "source": [
    "We loaded the best weights used in training and then compiled the model again to be used for validation to see how well the model predicts the outcomes using data it hasn't seen before."
   ]
  },
  {
   "cell_type": "code",
   "execution_count": 86,
   "metadata": {},
   "outputs": [],
   "source": [
    "# Load best weights\n",
    "network.load_weights(\"weights6.hdf5\")"
   ]
  },
  {
   "cell_type": "code",
   "execution_count": 87,
   "metadata": {},
   "outputs": [],
   "source": [
    "# Compile model again\n",
    "network.compile(\n",
    "    optimizer = optimizers.RMSprop(learning_rate=0.001, rho=0.9),\n",
    "    loss='binary_crossentropy',\n",
    "    metrics = my_metrics)"
   ]
  },
  {
   "cell_type": "code",
   "execution_count": 88,
   "metadata": {},
   "outputs": [],
   "source": [
    "labels = dev_generator.classes # Outputs from training\n",
    "predicted = network.predict_generator(test_generator).flatten()  # Predicted values using test data"
   ]
  },
  {
   "cell_type": "markdown",
   "metadata": {},
   "source": [
    "Finally, we calculated all the statistics from the results we got using test data."
   ]
  },
  {
   "cell_type": "code",
   "execution_count": 89,
   "metadata": {},
   "outputs": [
    {
     "data": {
      "image/png": "[encoded data removed]",
      "text/plain": [
       "<Figure size 432x288 with 1 Axes>"
      ]
     },
     "metadata": {
      "needs_background": "light"
     },
     "output_type": "display_data"
    }
   ],
   "source": [
    "# Calculate ROC curve \n",
    "fpr, tpr, thresholds = roc_curve(labels, predicted, pos_label = 1)\n",
    "\n",
    "# Plot ROC curve\n",
    "plot(fpr, tpr)\n",
    "plot([0, 1], [0, 1], 'r:')\n",
    "xlabel('False positive rate')\n",
    "ylabel('True positive rate')\n",
    "title('ROC curve')\n",
    "xlim([0, 1])\n",
    "ylim([0, 1])\n",
    "grid()"
   ]
  },
  {
   "cell_type": "code",
   "execution_count": 90,
   "metadata": {},
   "outputs": [
    {
     "name": "stdout",
     "output_type": "stream",
     "text": [
      "Confusion matrix (machine learning way):\n",
      "[[299  18]\n",
      " [ 93 762]]\n",
      "Confusion matrix (medicine way):\n",
      "[[762  93]\n",
      " [ 18 299]]\n"
     ]
    }
   ],
   "source": [
    "# Confusion matrix from validation\n",
    "print('Confusion matrix (machine learning way):')\n",
    "cm = confusion_matrix(labels, predicted > 0.6)\n",
    "print(cm)\n",
    "tn, fp, fn, tp = confusion_matrix(labels, predicted > 0.6).ravel()\n",
    "print('Confusion matrix (medicine way):')\n",
    "print(array([[tp, fn], [fp, tn]]))"
   ]
  },
  {
   "cell_type": "code",
   "execution_count": 91,
   "metadata": {},
   "outputs": [
    {
     "name": "stdout",
     "output_type": "stream",
     "text": [
      "               precision    recall  f1-score   support\n",
      "\n",
      "   Normal (0)       0.76      0.94      0.84       317\n",
      "Pneumonia (1)       0.98      0.89      0.93       855\n",
      "\n",
      "     accuracy                           0.91      1172\n",
      "    macro avg       0.87      0.92      0.89      1172\n",
      " weighted avg       0.92      0.91      0.91      1172\n",
      "\n"
     ]
    }
   ],
   "source": [
    "# Classification report\n",
    "cr = classification_report(labels, predicted > 0.6, target_names = ['Normal (0)', 'Pneumonia (1)'])\n",
    "print(cr)"
   ]
  },
  {
   "cell_type": "markdown",
   "metadata": {},
   "source": [
    "# Conclusions"
   ]
  },
  {
   "cell_type": "markdown",
   "metadata": {},
   "source": [
    "As you can see from the results, our model predicted the pneumonia cases with a very high accuracy. Pneumonia cases were classified as normal for 23.7% of the cases and normal cases were classified as pneumonia for 2.3% of the cases. The f1 score (which is a good value to use when comparing models) for the pneumonia cases was good and average for the normal cases.\n",
    "<br>\n",
    "<br>\n",
    "When comparing with model 2, the f1-scores were slightly worse in both pneumonia and normal cases.\n",
    "<br>\n",
    "<br>\n",
    "Comparasion with model 3 is done when Sami uploads model 3 with the right file form."
   ]
  },
  {
   "cell_type": "code",
   "execution_count": null,
   "metadata": {},
   "outputs": [],
   "source": []
  }
 ],
 "metadata": {
  "kernelspec": {
   "display_name": "Python 3",
   "language": "python",
   "name": "python3"
  },
  "language_info": {
   "codemirror_mode": {
    "name": "ipython",
    "version": 3
   },
   "file_extension": ".py",
   "mimetype": "text/x-python",
   "name": "python",
   "nbconvert_exporter": "python",
   "pygments_lexer": "ipython3",
   "version": "3.7.3"
  },
  "toc": {
   "base_numbering": 1,
   "nav_menu": {},
   "number_sections": true,
   "sideBar": true,
   "skip_h1_title": false,
   "title_cell": "Table of Contents",
   "title_sidebar": "Contents",
   "toc_cell": true,
   "toc_position": {},
   "toc_section_display": true,
   "toc_window_display": false
  }
 },
 "nbformat": 4,
 "nbformat_minor": 2
}
