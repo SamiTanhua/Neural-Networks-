{
 "cells": [
  {
   "cell_type": "markdown",
   "metadata": {},
   "source": [
    "# Final comparasion of models"
   ]
  },
  {
   "cell_type": "markdown",
   "metadata": {},
   "source": [
    "Model 1 had the best results and performed most consistently on both predicting normal and pneumonia cases. Model 2 was not far off from Model 1 and Model 3 did not perform well at all.\n",
    "<br>\n",
    "<br>\n",
    "As can be seen from the next table, Model 1 outscored Model 2 in all f1-scores, some by little and some by bigger margin. Model 3 was obviously much worse in all areas."
   ]
  },
  {
   "cell_type": "code",
   "execution_count": 29,
   "metadata": {},
   "outputs": [
    {
     "data": {
      "text/html": [
       "<div>\n",
       "<style scoped>\n",
       "    .dataframe tbody tr th:only-of-type {\n",
       "        vertical-align: middle;\n",
       "    }\n",
       "\n",
       "    .dataframe tbody tr th {\n",
       "        vertical-align: top;\n",
       "    }\n",
       "\n",
       "    .dataframe thead th {\n",
       "        text-align: right;\n",
       "    }\n",
       "</style>\n",
       "<table border=\"1\" class=\"dataframe\">\n",
       "  <thead>\n",
       "    <tr style=\"text-align: right;\">\n",
       "      <th></th>\n",
       "      <th>Model 1</th>\n",
       "      <th>Model 2</th>\n",
       "      <th>Model 3</th>\n",
       "    </tr>\n",
       "  </thead>\n",
       "  <tbody>\n",
       "    <tr>\n",
       "      <td>Normal (0)-f1-score</td>\n",
       "      <td>0.87</td>\n",
       "      <td>0.84</td>\n",
       "      <td>0.35</td>\n",
       "    </tr>\n",
       "    <tr>\n",
       "      <td>Pneumonia (1)-f1-score</td>\n",
       "      <td>0.96</td>\n",
       "      <td>0.93</td>\n",
       "      <td>0.61</td>\n",
       "    </tr>\n",
       "    <tr>\n",
       "      <td>Accuracy-f1-score</td>\n",
       "      <td>0.93</td>\n",
       "      <td>0.91</td>\n",
       "      <td>0.51</td>\n",
       "    </tr>\n",
       "    <tr>\n",
       "      <td>Macro avg-f1-score</td>\n",
       "      <td>0.91</td>\n",
       "      <td>0.89</td>\n",
       "      <td>0.48</td>\n",
       "    </tr>\n",
       "    <tr>\n",
       "      <td>Weighted avg-f1-score</td>\n",
       "      <td>0.93</td>\n",
       "      <td>0.91</td>\n",
       "      <td>0.54</td>\n",
       "    </tr>\n",
       "  </tbody>\n",
       "</table>\n",
       "</div>"
      ],
      "text/plain": [
       "                        Model 1  Model 2  Model 3\n",
       "Normal (0)-f1-score        0.87     0.84     0.35\n",
       "Pneumonia (1)-f1-score     0.96     0.93     0.61\n",
       "Accuracy-f1-score          0.93     0.91     0.51\n",
       "Macro avg-f1-score         0.91     0.89     0.48\n",
       "Weighted avg-f1-score      0.93     0.91     0.54"
      ]
     },
     "execution_count": 29,
     "metadata": {},
     "output_type": "execute_result"
    }
   ],
   "source": [
    "import numpy as np\n",
    "import pandas as pd\n",
    "\n",
    "column_names = ['Model 1', 'Model 2', 'Model 3']\n",
    "row_names = ['Normal (0)-f1-score', 'Pneumonia (1)-f1-score',\n",
    "                'Accuracy-f1-score', 'Macro avg-f1-score',\n",
    "               'Weighted avg-f1-score']\n",
    "\n",
    "matrix = np.reshape((0.87, 0.84, 0.35, 0.96, 0.93, 0.61, 0.93, 0.91, 0.51, 0.91, 0.89, 0.48, 0.93, 0.91, 0.54), \n",
    "                    (5, 3))\n",
    "df = pd.DataFrame(matrix, columns=column_names, index=row_names)\n",
    "df"
   ]
  },
  {
   "cell_type": "code",
   "execution_count": null,
   "metadata": {},
   "outputs": [],
   "source": []
  }
 ],
 "metadata": {
  "kernelspec": {
   "display_name": "Python 3",
   "language": "python",
   "name": "python3"
  },
  "language_info": {
   "codemirror_mode": {
    "name": "ipython",
    "version": 3
   },
   "file_extension": ".py",
   "mimetype": "text/x-python",
   "name": "python",
   "nbconvert_exporter": "python",
   "pygments_lexer": "ipython3",
   "version": "3.7.3"
  }
 },
 "nbformat": 4,
 "nbformat_minor": 2
}
