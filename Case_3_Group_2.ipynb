{
 "cells": [
  {
   "cell_type": "markdown",
   "metadata": {},
   "source": [
    "<h1>Table of Contents<span class=\"tocSkip\"></span></h1>\n",
    "<div class=\"toc\"><ul class=\"toc-item\"><li><span><a href=\"#Case-X.-Template\" data-toc-modified-id=\"Case-X.-Template-1\"><span class=\"toc-item-num\">1&nbsp;&nbsp;</span>Case 3 Mode Template</a></span></li><li><span><a href=\"#Background\" data-toc-modified-id=\"Background-2\"><span class=\"toc-item-num\">2&nbsp;&nbsp;</span>Background</a></span></li><li><span><a href=\"#Data-and-preprocessing\" data-toc-modified-id=\"Data-and-preprocessing-3\"><span class=\"toc-item-num\">3&nbsp;&nbsp;</span>Data and preprocessing</a></span></li><li><span><a href=\"#Constructing-the-model-and-training-it\" data-toc-modified-id=\"Constructing the model and training it-4\"><span class=\"toc-item-num\">4&nbsp;&nbsp;</span>Constructing the model and training it</a></span></li><li><span><a href=\"#Results-and-discussion\" data-toc-modified-id=\"Results-and-Discussion-5\"><span class=\"toc-item-num\">5&nbsp;&nbsp;</span>Results and discussion</a></span></li><li><span><a \n",
    "href=\"#Conclusions\" data-toc-modified-id=\"Conclusions-6\"><span class=\"toc-item-num\">6&nbsp;&nbsp;</span>Conclusions</a></span></li></ul></div>"
   ]
  },
  {
   "cell_type": "markdown",
   "metadata": {},
   "source": [
    "# Case 3 Template\n",
    "Mikko Kettunen, Niklas Koro, Sami Tanhua, Jake Pärssinen - Group 2<br>\n",
    "Last edited: 19.03.2020<br>\n",
    "Neural Networks for Health Technology Applications<br>\n",
    "[Helsinki Metropolia University of Applied Sciences](http://www.metropolia.fi/en/)<br>"
   ]
  },
  {
   "cell_type": "markdown",
   "metadata": {},
   "source": [
    "# Background\n",
    "The aim of this notebook is to create a model that predicts drug ratings based on their reviews."
   ]
  },
  {
   "cell_type": "markdown",
   "metadata": {},
   "source": [
    "# Data and preprocessing"
   ]
  },
  {
   "cell_type": "markdown",
   "metadata": {},
   "source": [
    "Imports"
   ]
  },
  {
   "cell_type": "code",
   "execution_count": 316,
   "metadata": {},
   "outputs": [
    {
     "name": "stdout",
     "output_type": "stream",
     "text": [
      "Populating the interactive namespace from numpy and matplotlib\n"
     ]
    },
    {
     "name": "stderr",
     "output_type": "stream",
     "text": [
      "C:\\Users\\mikko\\Anaconda3\\lib\\site-packages\\IPython\\core\\magics\\pylab.py:160: UserWarning: pylab import has clobbered these variables: ['test', 'cm', 'e', 'indices']\n",
      "`%matplotlib` prevents importing * from pylab and numpy\n",
      "  \"\\n`%matplotlib` prevents importing * from pylab and numpy\"\n"
     ]
    }
   ],
   "source": [
    "%pylab inline\n",
    "\n",
    "import time # for timing\n",
    "import numpy as np # linear algebra\n",
    "import pandas as pd # data processing, CSV file I/O (e.g. pd.read_csv)\n",
    "import tensorflow as tf\n",
    "from sklearn.model_selection import train_test_split # preprocessing datasets\n",
    "from tensorflow.keras.preprocessing.text import Tokenizer # text preprocessing\n",
    "from tensorflow.keras.models import Sequential # modeling neural networks\n",
    "from tensorflow.keras.layers import Dense, Activation, Dropout # layers for neural networks\n",
    "from sklearn.metrics import confusion_matrix, classification_report, cohen_kappa_score # final metrics\n",
    "\n",
    "from tensorflow.keras.layers import Dense, Input, GlobalMaxPooling1D\n",
    "from tensorflow.keras.layers import Conv1D, MaxPooling1D, Embedding\n",
    "from tensorflow.keras.models import Model\n",
    "from tensorflow.keras.initializers import Constant\n",
    "\n",
    "import collections\n",
    "import matplotlib.pyplot as plt\n",
    "from tensorflow.keras import layers\n",
    "\n",
    "from tensorflow.keras.preprocessing.sequence import pad_sequences # text preprocessing"
   ]
  },
  {
   "cell_type": "markdown",
   "metadata": {},
   "source": [
    "We downloaded the datasets and checked it by showing the first 5 rows."
   ]
  },
  {
   "cell_type": "code",
   "execution_count": 317,
   "metadata": {},
   "outputs": [
    {
     "data": {
      "text/html": [
       "<div>\n",
       "<style scoped>\n",
       "    .dataframe tbody tr th:only-of-type {\n",
       "        vertical-align: middle;\n",
       "    }\n",
       "\n",
       "    .dataframe tbody tr th {\n",
       "        vertical-align: top;\n",
       "    }\n",
       "\n",
       "    .dataframe thead th {\n",
       "        text-align: right;\n",
       "    }\n",
       "</style>\n",
       "<table border=\"1\" class=\"dataframe\">\n",
       "  <thead>\n",
       "    <tr style=\"text-align: right;\">\n",
       "      <th></th>\n",
       "      <th>uniqueID</th>\n",
       "      <th>drugName</th>\n",
       "      <th>condition</th>\n",
       "      <th>review</th>\n",
       "      <th>rating</th>\n",
       "      <th>date</th>\n",
       "      <th>usefulCount</th>\n",
       "    </tr>\n",
       "  </thead>\n",
       "  <tbody>\n",
       "    <tr>\n",
       "      <td>0</td>\n",
       "      <td>206461</td>\n",
       "      <td>Valsartan</td>\n",
       "      <td>Left Ventricular Dysfunction</td>\n",
       "      <td>\"It has no side effect, I take it in combinati...</td>\n",
       "      <td>9</td>\n",
       "      <td>20-May-12</td>\n",
       "      <td>27</td>\n",
       "    </tr>\n",
       "    <tr>\n",
       "      <td>1</td>\n",
       "      <td>95260</td>\n",
       "      <td>Guanfacine</td>\n",
       "      <td>ADHD</td>\n",
       "      <td>\"My son is halfway through his fourth week of ...</td>\n",
       "      <td>8</td>\n",
       "      <td>27-Apr-10</td>\n",
       "      <td>192</td>\n",
       "    </tr>\n",
       "    <tr>\n",
       "      <td>2</td>\n",
       "      <td>92703</td>\n",
       "      <td>Lybrel</td>\n",
       "      <td>Birth Control</td>\n",
       "      <td>\"I used to take another oral contraceptive, wh...</td>\n",
       "      <td>5</td>\n",
       "      <td>14-Dec-09</td>\n",
       "      <td>17</td>\n",
       "    </tr>\n",
       "    <tr>\n",
       "      <td>3</td>\n",
       "      <td>138000</td>\n",
       "      <td>Ortho Evra</td>\n",
       "      <td>Birth Control</td>\n",
       "      <td>\"This is my first time using any form of birth...</td>\n",
       "      <td>8</td>\n",
       "      <td>3-Nov-15</td>\n",
       "      <td>10</td>\n",
       "    </tr>\n",
       "    <tr>\n",
       "      <td>4</td>\n",
       "      <td>35696</td>\n",
       "      <td>Buprenorphine / naloxone</td>\n",
       "      <td>Opiate Dependence</td>\n",
       "      <td>\"Suboxone has completely turned my life around...</td>\n",
       "      <td>9</td>\n",
       "      <td>27-Nov-16</td>\n",
       "      <td>37</td>\n",
       "    </tr>\n",
       "  </tbody>\n",
       "</table>\n",
       "</div>"
      ],
      "text/plain": [
       "   uniqueID                  drugName                     condition  \\\n",
       "0    206461                 Valsartan  Left Ventricular Dysfunction   \n",
       "1     95260                Guanfacine                          ADHD   \n",
       "2     92703                    Lybrel                 Birth Control   \n",
       "3    138000                Ortho Evra                 Birth Control   \n",
       "4     35696  Buprenorphine / naloxone             Opiate Dependence   \n",
       "\n",
       "                                              review  rating       date  \\\n",
       "0  \"It has no side effect, I take it in combinati...       9  20-May-12   \n",
       "1  \"My son is halfway through his fourth week of ...       8  27-Apr-10   \n",
       "2  \"I used to take another oral contraceptive, wh...       5  14-Dec-09   \n",
       "3  \"This is my first time using any form of birth...       8   3-Nov-15   \n",
       "4  \"Suboxone has completely turned my life around...       9  27-Nov-16   \n",
       "\n",
       "   usefulCount  \n",
       "0           27  \n",
       "1          192  \n",
       "2           17  \n",
       "3           10  \n",
       "4           37  "
      ]
     },
     "execution_count": 317,
     "metadata": {},
     "output_type": "execute_result"
    }
   ],
   "source": [
    "# Show the first 5 rows\n",
    "train = pd.read_csv('drugsComTrain_raw.csv')\n",
    "test = pd.read_csv('drugsComTest_raw.csv')\n",
    "train.head()"
   ]
  },
  {
   "cell_type": "markdown",
   "metadata": {},
   "source": [
    "1. We tokenized the text samples into lists of integer indices for words. We restricted the maximum number of words in the index a value of 5000, which means we are using only the 5000 most frequently occurring words in the dataset.\n",
    "2. We used stop words to remove irrelevant words from the dataframe\n",
    "3. The samples holds the list of strings containing the original text.\n",
    "4. The sequences variable holds the corresponding integer lists after tokenization\n",
    "5. Finally we printed the number of tokens found in the dataset."
   ]
  },
  {
   "cell_type": "code",
   "execution_count": 318,
   "metadata": {},
   "outputs": [
    {
     "name": "stdout",
     "output_type": "stream",
     "text": [
      "Found 49980 unique tokens.\n"
     ]
    }
   ],
   "source": [
    "import nltk\n",
    "from nltk import word_tokenize,sent_tokenize\n",
    "\n",
    "# Tokenize the text\n",
    "samples = train['review']\n",
    "\n",
    "stop = stopwords.words('english')\n",
    "samples = samples.apply(lambda x: ' '.join([word for word in x.split() if word not in (stop)]))\n",
    "\n",
    "tokenizer = Tokenizer(num_words = 5000)\n",
    "tokenizer.fit_on_texts(samples)\n",
    "\n",
    "# Convert text to sequences\n",
    "sequences = tokenizer.texts_to_sequences(samples) \n",
    "\n",
    "word_index = tokenizer.word_index\n",
    "print('Found %s unique tokens.' % len(word_index))"
   ]
  },
  {
   "cell_type": "markdown",
   "metadata": {},
   "source": [
    "Data padding was done to ensure that  all the lists are the same length."
   ]
  },
  {
   "cell_type": "code",
   "execution_count": 319,
   "metadata": {},
   "outputs": [],
   "source": [
    "data = pad_sequences(sequences, maxlen=200)"
   ]
  },
  {
   "cell_type": "markdown",
   "metadata": {},
   "source": [
    "We splitted the data into 3 categories based on their ratings. The categories are:\n",
    "1. Rating over 6 = category 2\n",
    "2. Rating 5 or 6 = category 1\n",
    "3. Rating under 5 = category 0"
   ]
  },
  {
   "cell_type": "code",
   "execution_count": 320,
   "metadata": {},
   "outputs": [],
   "source": [
    "# Create three categories\n",
    "labels = train['rating'].values\n",
    "for i in range(len(labels)):\n",
    "    x = labels[i]\n",
    "    if x > 6:\n",
    "        labels[i] = 2\n",
    "    elif x == 5 or x == 6:\n",
    "        labels[i] = 1\n",
    "    else:\n",
    "        labels[i] = 0"
   ]
  },
  {
   "cell_type": "markdown",
   "metadata": {},
   "source": [
    "We printed the shapes of our input and output data to see if they are compatible."
   ]
  },
  {
   "cell_type": "code",
   "execution_count": 321,
   "metadata": {},
   "outputs": [
    {
     "name": "stdout",
     "output_type": "stream",
     "text": [
      "Shape of data tensor: (161297, 200)\n",
      "Shape of label tensor: (161297, 3)\n"
     ]
    }
   ],
   "source": [
    "from tensorflow.keras.utils import to_categorical\n",
    "\n",
    "# Show data and label shapes\n",
    "labels = to_categorical(np.asarray(labels))\n",
    "print('Shape of data tensor:', data.shape)\n",
    "print('Shape of label tensor:', labels.shape)"
   ]
  },
  {
   "cell_type": "markdown",
   "metadata": {},
   "source": [
    "We splitted the data into training and validation sets on a 75/25 split."
   ]
  },
  {
   "cell_type": "code",
   "execution_count": 322,
   "metadata": {},
   "outputs": [],
   "source": [
    "VALIDATION_SPLIT = 0.25\n",
    "\n",
    "# split the data into a training set and a validation set\n",
    "indices = np.arange(data.shape[0])\n",
    "np.random.shuffle(indices)\n",
    "data = data[indices]\n",
    "labels = labels[indices]\n",
    "nb_validation_samples = int(VALIDATION_SPLIT * data.shape[0])\n",
    "\n",
    "x_train = data[:-nb_validation_samples]\n",
    "y_train = labels[:-nb_validation_samples]\n",
    "x_val = data[-nb_validation_samples:]\n",
    "y_val = labels[-nb_validation_samples:]"
   ]
  },
  {
   "cell_type": "markdown",
   "metadata": {},
   "source": [
    "# Constructing the model and training it"
   ]
  },
  {
   "cell_type": "markdown",
   "metadata": {},
   "source": [
    "We then constructed the model. We used:\n",
    "\n",
    "1. A Conv1D model with maxpooling layers between. \n",
    "2. Relu as activation function\n",
    "3. Categorical_crossentropy as loss function because this is a categorial classification problem.\n",
    "4. RmsProp as optimizer, because it's a good optimizer to use for almost all problems. \n",
    "5. Embedding layer was used to make the input values more connected and give the model more trainable values."
   ]
  },
  {
   "cell_type": "code",
   "execution_count": 326,
   "metadata": {},
   "outputs": [
    {
     "name": "stdout",
     "output_type": "stream",
     "text": [
      "Model: \"model_14\"\n",
      "_________________________________________________________________\n",
      "Layer (type)                 Output Shape              Param #   \n",
      "=================================================================\n",
      "input_19 (InputLayer)        [(None, 200)]             0         \n",
      "_________________________________________________________________\n",
      "embedding_18 (Embedding)     (None, 200, 100)          500000    \n",
      "_________________________________________________________________\n",
      "conv1d_54 (Conv1D)           (None, 196, 64)           32064     \n",
      "_________________________________________________________________\n",
      "max_pooling1d_36 (MaxPooling (None, 39, 64)            0         \n",
      "_________________________________________________________________\n",
      "conv1d_55 (Conv1D)           (None, 35, 64)            20544     \n",
      "_________________________________________________________________\n",
      "max_pooling1d_37 (MaxPooling (None, 7, 64)             0         \n",
      "_________________________________________________________________\n",
      "conv1d_56 (Conv1D)           (None, 3, 64)             20544     \n",
      "_________________________________________________________________\n",
      "global_max_pooling1d_16 (Glo (None, 64)                0         \n",
      "_________________________________________________________________\n",
      "dense_28 (Dense)             (None, 64)                4160      \n",
      "_________________________________________________________________\n",
      "dense_29 (Dense)             (None, 3)                 195       \n",
      "=================================================================\n",
      "Total params: 577,507\n",
      "Trainable params: 577,507\n",
      "Non-trainable params: 0\n",
      "_________________________________________________________________\n"
     ]
    }
   ],
   "source": [
    "embedding_layer = Embedding(5000,\n",
    "                            100,\n",
    "                            input_length=200,\n",
    "                            trainable=True)\n",
    "\n",
    "sequence_input = Input(shape=(200,), dtype='int32')\n",
    "embedded_sequences = embedding_layer(sequence_input)\n",
    "x = Conv1D(64, 5, activation='relu')(embedded_sequences)\n",
    "x = MaxPooling1D(5)(x)\n",
    "x = Conv1D(64, 5, activation='relu')(x)\n",
    "x = MaxPooling1D(5)(x)\n",
    "x = Conv1D(64, 5, activation='relu')(x)\n",
    "x = GlobalMaxPooling1D()(x)\n",
    "x = Dense(64, activation='relu')(x)\n",
    "preds = Dense(3, activation='softmax')(x)\n",
    "\n",
    "model = Model(sequence_input, preds)\n",
    "model.compile(loss='categorical_crossentropy',\n",
    "              optimizer='rmsprop',\n",
    "              metrics=['acc'])\n",
    "\n",
    "model.summary()"
   ]
  },
  {
   "cell_type": "markdown",
   "metadata": {},
   "source": [
    "We chose to save the best weights on training based on validation accuracy to see if it gave us better results than just using the weights after the model had gone through all the epochs."
   ]
  },
  {
   "cell_type": "code",
   "execution_count": 327,
   "metadata": {},
   "outputs": [
    {
     "name": "stdout",
     "output_type": "stream",
     "text": [
      "Train on 120973 samples, validate on 40324 samples\n",
      "Epoch 1/10\n",
      "120960/120973 [============================>.] - ETA: 0s - loss: 0.6141 - acc: 0.7657- ETA: 0s - loss: 0.6146 - \n",
      "Epoch 00001: val_acc improved from -inf to 0.78127, saving model to weights01.best.hdf5\n",
      "120973/120973 [==============================] - 176s 1ms/sample - loss: 0.6142 - acc: 0.7657 - val_loss: 0.5942 - val_acc: 0.7813\n",
      "Epoch 2/10\n",
      "120960/120973 [============================>.] - ETA: 0s - loss: 0.5063 - acc: 0.8116\n",
      "Epoch 00002: val_acc improved from 0.78127 to 0.80649, saving model to weights01.best.hdf5\n",
      "120973/120973 [==============================] - 181s 1ms/sample - loss: 0.5063 - acc: 0.8116 - val_loss: 0.5088 - val_acc: 0.8065\n",
      "Epoch 3/10\n",
      "120960/120973 [============================>.] - ETA: 0s - loss: 0.4241 - acc: 0.8411\n",
      "Epoch 00003: val_acc improved from 0.80649 to 0.80917, saving model to weights01.best.hdf5\n",
      "120973/120973 [==============================] - 185s 2ms/sample - loss: 0.4242 - acc: 0.8411 - val_loss: 0.5031 - val_acc: 0.8092\n",
      "Epoch 4/10\n",
      "120960/120973 [============================>.] - ETA: 0s - loss: 0.3469 - acc: 0.8702\n",
      "Epoch 00004: val_acc improved from 0.80917 to 0.81587, saving model to weights01.best.hdf5\n",
      "120973/120973 [==============================] - 191s 2ms/sample - loss: 0.3469 - acc: 0.8702 - val_loss: 0.4906 - val_acc: 0.8159\n",
      "Epoch 5/10\n",
      "120960/120973 [============================>.] - ETA: 0s - loss: 0.2796 - acc: 0.8975\n",
      "Epoch 00005: val_acc improved from 0.81587 to 0.82383, saving model to weights01.best.hdf5\n",
      "120973/120973 [==============================] - 191s 2ms/sample - loss: 0.2796 - acc: 0.8975 - val_loss: 0.5134 - val_acc: 0.8238\n",
      "Epoch 6/10\n",
      "120960/120973 [============================>.] - ETA: 0s - loss: 0.2218 - acc: 0.9204\n",
      "Epoch 00006: val_acc did not improve from 0.82383\n",
      "120973/120973 [==============================] - 206s 2ms/sample - loss: 0.2218 - acc: 0.9204 - val_loss: 0.7096 - val_acc: 0.7889\n",
      "Epoch 7/10\n",
      "120960/120973 [============================>.] - ETA: 0s - loss: 0.1783 - acc: 0.9378\n",
      "Epoch 00007: val_acc improved from 0.82383 to 0.83308, saving model to weights01.best.hdf5\n",
      "120973/120973 [==============================] - 188s 2ms/sample - loss: 0.1783 - acc: 0.9378 - val_loss: 0.5717 - val_acc: 0.8331\n",
      "Epoch 8/10\n",
      "120960/120973 [============================>.] - ETA: 0s - loss: 0.1437 - acc: 0.9500\n",
      "Epoch 00008: val_acc improved from 0.83308 to 0.83841, saving model to weights01.best.hdf5\n",
      "120973/120973 [==============================] - 191s 2ms/sample - loss: 0.1437 - acc: 0.9500 - val_loss: 0.7340 - val_acc: 0.8384\n",
      "Epoch 9/10\n",
      "120960/120973 [============================>.] - ETA: 0s - loss: 0.1192 - acc: 0.9589\n",
      "Epoch 00009: val_acc did not improve from 0.83841\n",
      "120973/120973 [==============================] - 200s 2ms/sample - loss: 0.1192 - acc: 0.9589 - val_loss: 0.7303 - val_acc: 0.8365\n",
      "Epoch 10/10\n",
      "120960/120973 [============================>.] - ETA: 0s - loss: 0.1009 - acc: 0.9669\n",
      "Epoch 00010: val_acc did not improve from 0.83841\n",
      "120973/120973 [==============================] - 183s 2ms/sample - loss: 0.1009 - acc: 0.9669 - val_loss: 0.9264 - val_acc: 0.8221\n"
     ]
    }
   ],
   "source": [
    "from tensorflow.keras.callbacks import ModelCheckpoint\n",
    "\n",
    "# Save the best weights for validation use\n",
    "filepath=\"weights01.best.hdf5\"\n",
    "checkpoint = ModelCheckpoint(filepath,\n",
    "                             monitor='val_acc',\n",
    "                             verbose=1, \n",
    "                             save_best_only=True, mode='max')\n",
    "callbacks_list = [checkpoint]\n",
    "\n",
    "history = model.fit(x_train, y_train, \n",
    "                    epochs = 10, \n",
    "                    batch_size = 64,\n",
    "                    verbose = 1,\n",
    "                    validation_data = (x_val, y_val),\n",
    "                    callbacks=callbacks_list)"
   ]
  },
  {
   "cell_type": "markdown",
   "metadata": {},
   "source": [
    "# Results and discussion"
   ]
  },
  {
   "cell_type": "markdown",
   "metadata": {},
   "source": [
    "We made 2 graphs to see how the validation accuracy and loss changed during the epochs. These graphs were then used to determine the right epoch number to use."
   ]
  },
  {
   "cell_type": "code",
   "execution_count": 329,
   "metadata": {},
   "outputs": [
    {
     "data": {
      "image/png": "[encoded data removed]",
      "text/plain": [
       "<Figure size 432x288 with 1 Axes>"
      ]
     },
     "metadata": {
      "needs_background": "light"
     },
     "output_type": "display_data"
    },
    {
     "data": {
      "image/png": "[encoded data removed]",
      "text/plain": [
       "<Figure size 432x288 with 1 Axes>"
      ]
     },
     "metadata": {
      "needs_background": "light"
     },
     "output_type": "display_data"
    }
   ],
   "source": [
    "acc = history.history['acc']\n",
    "val_acc = history.history['val_acc']\n",
    "loss = history.history['loss']\n",
    "val_loss = history.history['val_loss']\n",
    "e = arange(len(acc)) + 1\n",
    "\n",
    "plot(e, acc, label = 'train')\n",
    "plot(e, val_acc, label = 'validation')\n",
    "title('Training and validation accuracy')\n",
    "xlabel('Epoch')\n",
    "grid()\n",
    "legend()\n",
    "\n",
    "figure()\n",
    "\n",
    "plot(e, loss, label = 'train')\n",
    "plot(e, val_loss, label = 'validation')\n",
    "title('Training and validation loss')\n",
    "xlabel('Epoch')\n",
    "grid()\n",
    "legend()\n",
    "\n",
    "show()\n"
   ]
  },
  {
   "cell_type": "markdown",
   "metadata": {},
   "source": [
    "Finally we made the predictions and printed out the results, classification report, confusion matrix and cohen's kappa scores."
   ]
  },
  {
   "cell_type": "code",
   "execution_count": 330,
   "metadata": {},
   "outputs": [],
   "source": [
    "# Find the predicted values for the validation set\n",
    "y_pred = argmax(model.predict(x_val), axis = 1)\n",
    "y_true = argmax(y_val, axis = 1)"
   ]
  },
  {
   "cell_type": "code",
   "execution_count": 331,
   "metadata": {},
   "outputs": [
    {
     "name": "stdout",
     "output_type": "stream",
     "text": [
      "              precision    recall  f1-score   support\n",
      "\n",
      "           0       0.76      0.80      0.78      9927\n",
      "           1       0.41      0.57      0.48      3571\n",
      "           2       0.93      0.86      0.90     26826\n",
      "\n",
      "    accuracy                           0.82     40324\n",
      "   macro avg       0.70      0.74      0.72     40324\n",
      "weighted avg       0.84      0.82      0.83     40324\n",
      "\n"
     ]
    }
   ],
   "source": [
    "# Calculate the classification report\n",
    "cr = classification_report(y_true, y_pred)\n",
    "print(cr)"
   ]
  },
  {
   "cell_type": "code",
   "execution_count": 332,
   "metadata": {},
   "outputs": [
    {
     "name": "stdout",
     "output_type": "stream",
     "text": [
      "[[ 7913   772  1659]\n",
      " [  990  2033  1963]\n",
      " [ 1024   766 23204]]\n"
     ]
    }
   ],
   "source": [
    "# Calculate the confusion matrix\n",
    "cm = confusion_matrix(y_true, y_pred).T\n",
    "print(cm)"
   ]
  },
  {
   "cell_type": "code",
   "execution_count": 333,
   "metadata": {},
   "outputs": [
    {
     "name": "stdout",
     "output_type": "stream",
     "text": [
      "Cohen's kappa (linear)    = 0.654\n",
      "Cohen's kappa (quadratic) = 0.745\n"
     ]
    }
   ],
   "source": [
    "# Calculate the cohen's kappa, both with linear and quadratic weights\n",
    "k = cohen_kappa_score(y_true, y_pred)\n",
    "print(f\"Cohen's kappa (linear)    = {k:.3f}\")\n",
    "k2 = cohen_kappa_score(y_true, y_pred, weights = 'quadratic')\n",
    "print(f\"Cohen's kappa (quadratic) = {k2:.3f}\")"
   ]
  },
  {
   "cell_type": "markdown",
   "metadata": {},
   "source": [
    "We changed the numpy arrays to dataframes to make them compatible for merging."
   ]
  },
  {
   "cell_type": "code",
   "execution_count": 334,
   "metadata": {},
   "outputs": [],
   "source": [
    "y_true2 = pd.DataFrame(y_true)"
   ]
  },
  {
   "cell_type": "code",
   "execution_count": 335,
   "metadata": {},
   "outputs": [],
   "source": [
    "y_pred2 = pd.DataFrame(y_pred)"
   ]
  },
  {
   "cell_type": "markdown",
   "metadata": {},
   "source": [
    "We merged the observed, predicted and residual values to show how our model predicted certain cases."
   ]
  },
  {
   "cell_type": "code",
   "execution_count": 336,
   "metadata": {},
   "outputs": [
    {
     "name": "stdout",
     "output_type": "stream",
     "text": [
      "       observed  predicted  residual\n",
      "0             0          0         0\n",
      "1             1          0         1\n",
      "2             0          0         0\n",
      "3             2          2         0\n",
      "4             2          2         0\n",
      "...         ...        ...       ...\n",
      "40319         2          2         0\n",
      "40320         2          2         0\n",
      "40321         0          0         0\n",
      "40322         2          0         2\n",
      "40323         2          2         0\n",
      "\n",
      "[40324 rows x 3 columns]\n"
     ]
    }
   ],
   "source": [
    "# merge observed and predicted values and compute residuals\n",
    "df2 = pd.concat([y_true2, y_pred2, y_true2-y_pred2], axis=1)\n",
    "df2.columns=['observed','predicted','residual']\n",
    "print(df2)"
   ]
  },
  {
   "cell_type": "markdown",
   "metadata": {},
   "source": [
    "We loaded the best weights based on validation accuracy to see if the results were better than with the weights taken after full training."
   ]
  },
  {
   "cell_type": "code",
   "execution_count": 337,
   "metadata": {},
   "outputs": [],
   "source": [
    "# Load best weights from training\n",
    "model.load_weights(\"weights01.best.hdf5\")"
   ]
  },
  {
   "cell_type": "code",
   "execution_count": 338,
   "metadata": {},
   "outputs": [],
   "source": [
    "# Compile the model again\n",
    "model.compile(loss='categorical_crossentropy',\n",
    "              optimizer='rmsprop',\n",
    "              metrics=['acc'])\n"
   ]
  },
  {
   "cell_type": "code",
   "execution_count": 339,
   "metadata": {},
   "outputs": [],
   "source": [
    "# Find the predicted values for the validation set\n",
    "y_pred = argmax(model.predict(x_val), axis = 1)\n",
    "y_true = argmax(y_val, axis = 1)"
   ]
  },
  {
   "cell_type": "code",
   "execution_count": 340,
   "metadata": {},
   "outputs": [
    {
     "name": "stdout",
     "output_type": "stream",
     "text": [
      "              precision    recall  f1-score   support\n",
      "\n",
      "           0       0.85      0.70      0.77      9927\n",
      "           1       0.51      0.35      0.42      3571\n",
      "           2       0.86      0.96      0.91     26826\n",
      "\n",
      "    accuracy                           0.84     40324\n",
      "   macro avg       0.74      0.67      0.70     40324\n",
      "weighted avg       0.83      0.84      0.83     40324\n",
      "\n"
     ]
    }
   ],
   "source": [
    "# Calculate the classification report\n",
    "cr = classification_report(y_true, y_pred)\n",
    "print(cr)"
   ]
  },
  {
   "cell_type": "code",
   "execution_count": 341,
   "metadata": {},
   "outputs": [
    {
     "name": "stdout",
     "output_type": "stream",
     "text": [
      "[[ 6910   479   721]\n",
      " [  720  1256   463]\n",
      " [ 2297  1836 25642]]\n"
     ]
    }
   ],
   "source": [
    "# Calculate the confusion matrix\n",
    "cm = confusion_matrix(y_true, y_pred).T\n",
    "print(cm)"
   ]
  },
  {
   "cell_type": "code",
   "execution_count": 342,
   "metadata": {},
   "outputs": [
    {
     "name": "stdout",
     "output_type": "stream",
     "text": [
      "Cohen's kappa (linear)    = 0.644\n",
      "Cohen's kappa (quadratic) = 0.724\n"
     ]
    }
   ],
   "source": [
    "# Calculate the cohen's kappa, both with linear and quadratic weights\n",
    "k = cohen_kappa_score(y_true, y_pred)\n",
    "print(f\"Cohen's kappa (linear)    = {k:.3f}\")\n",
    "k2 = cohen_kappa_score(y_true, y_pred, weights = 'quadratic')\n",
    "print(f\"Cohen's kappa (quadratic) = {k2:.3f}\")"
   ]
  },
  {
   "cell_type": "markdown",
   "metadata": {},
   "source": [
    "# Conclusions"
   ]
  },
  {
   "cell_type": "markdown",
   "metadata": {},
   "source": [
    "### Simple Neural Network.\n",
    "First we tested predicting the values with a simple model that had only three fully connected neural layers. <br> \n",
    "The model did suprisingly well. <br>\n",
    "The F1-scores for each class were:\n",
    "\n",
    "0       0.81 <br>\n",
    "1       0.57 <br>\n",
    "2       0.92 <br>\n",
    "\n",
    " \n",
    "The biggest problem with this model was overfitting. <BR>\n",
    "We tried dropout and other measures but the model allways overfitted after 4 epocs. \n",
    "We didn't use this as our final model, because the assignment was to use either Conv1D or RNN model.\n",
    "### LSTM\n",
    "We brifly tested LSTM and RNN structures on the model but the result were poor. <br>\n",
    "Also some articles idicated that this method maybe wasn't the best way to solve this kind of problem. <br>\n",
    "https://towardsdatascience.com/recurrent-neural-networks-by-example-in-python-ffd204f99470 <br>\n",
    "### Conv1D\n",
    "Our final model was a Conv1D model.\n",
    "From the start this model gave good prediction accuracy values. <br>\n",
    "We tried to increase the accuracy with the following steps: <br>\n",
    "1. Batch size. The tested batch sizes were 128, 32 and 64.<br> There were no big differences but the model with 64 batch size was a little bit better. <br>\n",
    "2. Conv1D filter amount. The tested filter values were 128, 32 and 64. The filter value of 64 was overall the best because using 128 would make the model unneccesary complex. <br>\n",
    "3. Maxpooling1D size. We tried 3 and 5.Pooling size of 5 gave better accuracy. <br>\n",
    "4. Dropout. Using dropout on this model did not help with the overfitting. <br>\n",
    "5. Recording the weights that gave the best validation accuracy during the training and then using them in the testing did not improve the accuracy significantly <br>\n",
    "\n",
    "### Final accuracy of the Conv1D model\n",
    "\n",
    "\n",
    "    precision    recall  f1-score   support\n",
    "\n",
    "           0       0.85      0.70      0.77      9927\n",
    "           1       0.51      0.35      0.42      3571\n",
    "           2       0.86      0.96      0.91     26826\n",
    "\n",
    "    accuracy                           0.84     40324\n",
    "    \n",
    " \n",
    "#### Cohen's Kappa values\n",
    "\n",
    "Cohen's kappa (linear)    = 0.644<br>\n",
    "Cohen's kappa (quadratic) = 0.724<br>\n",
    "\n",
    "There was a difficulty to predict the accuracy on output value 1 on all models. This might be because this output values consist of only to rating values. "
   ]
  },
  {
   "cell_type": "markdown",
   "metadata": {},
   "source": []
  }
 ],
 "metadata": {
  "kernelspec": {
   "display_name": "Python 3",
   "language": "python",
   "name": "python3"
  },
  "language_info": {
   "codemirror_mode": {
    "name": "ipython",
    "version": 3
   },
   "file_extension": ".py",
   "mimetype": "text/x-python",
   "name": "python",
   "nbconvert_exporter": "python",
   "pygments_lexer": "ipython3",
   "version": "3.7.4"
  }
 },
 "nbformat": 4,
 "nbformat_minor": 2
}
