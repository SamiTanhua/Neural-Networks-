{
 "cells": [
  {
   "cell_type": "markdown",
   "metadata": {
    "toc": true
   },
   "source": [
    "<h1>Table of Contents<span class=\"tocSkip\"></span></h1>\n",
    "<div class=\"toc\"><ul class=\"toc-item\"><li><span><a href=\"#Case-X.-Template\" data-toc-modified-id=\"Case-X.-Template-1\"><span class=\"toc-item-num\">1&nbsp;&nbsp;</span>Case X. Template</a></span></li><li><span><a href=\"#Background\" data-toc-modified-id=\"Background-2\"><span class=\"toc-item-num\">2&nbsp;&nbsp;</span>Background</a></span></li><li><span><a href=\"#Data\" data-toc-modified-id=\"Data-3\"><span class=\"toc-item-num\">3&nbsp;&nbsp;</span>Data</a></span></li><li><span><a href=\"#Modes-and-training\" data-toc-modified-id=\"Modes-and-training-4\"><span class=\"toc-item-num\">4&nbsp;&nbsp;</span>Modes and training</a></span></li><li><span><a href=\"#Results-and-Discussion\" data-toc-modified-id=\"Results-and-Discussion-5\"><span class=\"toc-item-num\">5&nbsp;&nbsp;</span>Results and Discussion</a></span></li><li><span><a href=\"#Conclusions\" data-toc-modified-id=\"Conclusions-6\"><span class=\"toc-item-num\">6&nbsp;&nbsp;</span>Conclusions</a></span></li></ul></div>"
   ]
  },
  {
   "cell_type": "markdown",
   "metadata": {},
   "source": [
    "# Case 2\n",
    "Sami Tanhua, Mikko Kettunen, Niklas Koro and Jake Pärssinen. Team 2<br>\n",
    "Last edited: 01.03.2020<br>\n",
    "Neural Networks for Health Technology Applications<br>\n",
    "[Helsinki Metropolia University of Applied Sciences](http://www.metropolia.fi/en/)<br>"
   ]
  },
  {
   "cell_type": "markdown",
   "metadata": {},
   "source": [
    "# Background"
   ]
  },
  {
   "cell_type": "markdown",
   "metadata": {},
   "source": [
    "The aim of this Notebook is to try how a CNN model that has pretrained weights. The models goal is to detect pheumonia from X-ray images."
   ]
  },
  {
   "cell_type": "markdown",
   "metadata": {},
   "source": [
    "# Imports"
   ]
  },
  {
   "cell_type": "code",
   "execution_count": 2,
   "metadata": {},
   "outputs": [
    {
     "name": "stdout",
     "output_type": "stream",
     "text": [
      "Populating the interactive namespace from numpy and matplotlib\n"
     ]
    },
    {
     "name": "stderr",
     "output_type": "stream",
     "text": [
      "C:\\p\\lib\\site-packages\\IPython\\core\\magics\\pylab.py:160: UserWarning: pylab import has clobbered these variables: ['power', 'info', 'linalg', 'fft', 'random']\n",
      "`%matplotlib` prevents importing * from pylab and numpy\n",
      "  \"\\n`%matplotlib` prevents importing * from pylab and numpy\"\n"
     ]
    }
   ],
   "source": [
    "from tensorflow.keras.datasets import mnist\n",
    "from tensorflow.keras import models\n",
    "from tensorflow.keras import layers\n",
    "from tensorflow.keras import optimizers\n",
    "from tensorflow.keras.preprocessing.image import ImageDataGenerator\n",
    "from sklearn import metrics\n",
    "from keras.optimizers import SGD\n",
    "import os\n",
    "\n",
    "%pylab inline\n",
    "import numpy as np\n",
    "import seaborn as sns\n",
    "import pandas as pd\n",
    "import matplotlib.pyplot as plt\n",
    "from sklearn.metrics import *\n",
    "from sklearn import preprocessing\n",
    "from tensorflow.keras.models import Sequential\n",
    "from tensorflow.keras.layers import Dense, Activation\n",
    "from tensorflow.keras.models import Model\n",
    "from tensorflow.keras import regularizers\n",
    "from tensorflow.keras.layers import Dropout\n",
    "from pylab import *\n",
    "\n",
    "from sklearn.metrics import roc_curve\n",
    "from sklearn.metrics import roc_auc_score"
   ]
  },
  {
   "cell_type": "markdown",
   "metadata": {},
   "source": [
    "# Data"
   ]
  },
  {
   "cell_type": "markdown",
   "metadata": {},
   "source": [
    "1. Images are in 60/20/20 division for training, testing and validation\n",
    "<br>\n",
    "<br>\n",
    "2. In folders, images are divided into 2 subdirectories as this is a binary classification problem.\n",
    "<br>\n",
    "<br>\n",
    "3. CNN frameworks requires that images have fixed sizes in training. We chose the target size to be 150X150 pixels.\n",
    "<br>\n",
    "<br>\n",
    "4. Different batch sizes were tested, 64 gave the best results. It is commonly suggested that batch size is a power of 2 due to how GPUs are coded. This ables the GPU to distribute the workload better.\n",
    "<br>\n",
    "<br>\n",
    "5. We used ImageDataGenerators, because we have a small database and by creating more images we can increase our model accuracy and evade overfitting.\n",
    "<br>\n",
    "<br>\n",
    "6. Data augmentation also reduces overfitting by creating variations of the images. The values of the augmentetion were default values used in most examples.\n",
    "<br>\n",
    "<br>\n",
    "7. In testing and validation we defined the huffle variable to be false, because otherwise the images are shuffled and the program doesn't know which is the right label."
   ]
  },
  {
   "cell_type": "code",
   "execution_count": 3,
   "metadata": {},
   "outputs": [],
   "source": [
    "# Define train/test/validation directories\n",
    "train_dir = 'Case2_XRay/train'\n",
    "test_dir = 'Case2_XRay/test'\n",
    "validation_dir = 'Case2_XRay/validation'\n",
    "\n",
    "TS = (150, 150) # Image size\n",
    "BS = 32 # Batch size\n",
    "\n",
    "tg = ImageDataGenerator(rescale=1./255,\n",
    "    rotation_range=40,\n",
    "    width_shift_range=0.2,\n",
    "    height_shift_range=0.2,\n",
    "    shear_range=0.2,\n",
    "    zoom_range=0.2,\n",
    "    horizontal_flip=True)\n",
    "\n",
    "devg = ImageDataGenerator(rescale=1./255)\n",
    "testg = ImageDataGenerator(rescale=1./255)"
   ]
  },
  {
   "cell_type": "code",
   "execution_count": 4,
   "metadata": {},
   "outputs": [
    {
     "name": "stdout",
     "output_type": "stream",
     "text": [
      "Found 3513 images belonging to 2 classes.\n",
      "Found 1172 images belonging to 2 classes.\n",
      "Found 1171 images belonging to 2 classes.\n"
     ]
    }
   ],
   "source": [
    "train_generator = tg.flow_from_directory(\n",
    "    train_dir,\n",
    "    target_size = TS,\n",
    "    batch_size = BS,\n",
    "    class_mode='binary')\n",
    "\n",
    "dev_generator = devg.flow_from_directory(\n",
    "    validation_dir,\n",
    "    target_size = TS,\n",
    "    batch_size = BS,\n",
    "    shuffle = False,\n",
    "    class_mode='binary')\n",
    "\n",
    "test_generator = devg.flow_from_directory(\n",
    "    test_dir,\n",
    "    target_size = TS,\n",
    "    batch_size = BS,\n",
    "    class_mode='binary')"
   ]
  },
  {
   "cell_type": "code",
   "execution_count": 5,
   "metadata": {},
   "outputs": [
    {
     "name": "stdout",
     "output_type": "stream",
     "text": [
      "data batch shape: (32, 150, 150, 3)\n",
      "labels batch shape: (32,)\n",
      "data batch shape: (32, 150, 150, 3)\n",
      "labels batch shape: (32,)\n",
      "data batch shape: (32, 150, 150, 3)\n",
      "labels batch shape: (32,)\n",
      "data batch shape: (32, 150, 150, 3)\n",
      "labels batch shape: (32,)\n",
      "data batch shape: (32, 150, 150, 3)\n",
      "labels batch shape: (32,)\n",
      "data batch shape: (32, 150, 150, 3)\n",
      "labels batch shape: (32,)\n"
     ]
    }
   ],
   "source": [
    "i = 0\n",
    "for data_batch, labels_batch in train_generator:\n",
    "    print('data batch shape:', data_batch.shape)\n",
    "    print('labels batch shape:', labels_batch.shape)\n",
    "    i = i + 1\n",
    "    if i > 5:\n",
    "        break"
   ]
  },
  {
   "cell_type": "markdown",
   "metadata": {},
   "source": [
    "We tested that the image is the right size and the augmentation has altered the image in some way.\n"
   ]
  },
  {
   "cell_type": "code",
   "execution_count": 6,
   "metadata": {},
   "outputs": [
    {
     "data": {
      "image/png": "[encoded data removed]",
      "text/plain": [
       "<Figure size 432x288 with 1 Axes>"
      ]
     },
     "metadata": {
      "needs_background": "light"
     },
     "output_type": "display_data"
    }
   ],
   "source": [
    "imshow(data_batch[0])\n",
    "show()"
   ]
  },
  {
   "cell_type": "markdown",
   "metadata": {},
   "source": [
    "# Modes and training"
   ]
  },
  {
   "cell_type": "markdown",
   "metadata": {},
   "source": [
    "We wanted to try how pretrained model would perform on this task.<br>\n",
    "We used one of keras pretrained models VGG19. The model consists of 21 filtters and maxpooling layers. The filtter amount on every layer varies. In the start the filtter amount is 64. Everytime the size of the sample is decreased by the pooling layers the amount of filtters is increased. <br> <br> The model did not include dense layers or flattening layer. So we added a flattening layer and 2 dense layers.\n",
    "http://marubon-ds.blogspot.com/2017/09/vgg-fine-tuning-model.html"
   ]
  },
  {
   "cell_type": "markdown",
   "metadata": {},
   "source": [
    "We chose to show the summary on this model because the model structure is not shown on the code."
   ]
  },
  {
   "cell_type": "code",
   "execution_count": 7,
   "metadata": {},
   "outputs": [
    {
     "name": "stdout",
     "output_type": "stream",
     "text": [
      "Model: \"model_1\"\n",
      "_________________________________________________________________\n",
      "Layer (type)                 Output Shape              Param #   \n",
      "=================================================================\n",
      "input_1 (InputLayer)         (None, 150, 150, 3)       0         \n",
      "_________________________________________________________________\n",
      "block1_conv1 (Conv2D)        (None, 150, 150, 64)      1792      \n",
      "_________________________________________________________________\n",
      "block1_conv2 (Conv2D)        (None, 150, 150, 64)      36928     \n",
      "_________________________________________________________________\n",
      "block1_pool (MaxPooling2D)   (None, 75, 75, 64)        0         \n",
      "_________________________________________________________________\n",
      "block2_conv1 (Conv2D)        (None, 75, 75, 128)       73856     \n",
      "_________________________________________________________________\n",
      "block2_conv2 (Conv2D)        (None, 75, 75, 128)       147584    \n",
      "_________________________________________________________________\n",
      "block2_pool (MaxPooling2D)   (None, 37, 37, 128)       0         \n",
      "_________________________________________________________________\n",
      "block3_conv1 (Conv2D)        (None, 37, 37, 256)       295168    \n",
      "_________________________________________________________________\n",
      "block3_conv2 (Conv2D)        (None, 37, 37, 256)       590080    \n",
      "_________________________________________________________________\n",
      "block3_conv3 (Conv2D)        (None, 37, 37, 256)       590080    \n",
      "_________________________________________________________________\n",
      "block3_conv4 (Conv2D)        (None, 37, 37, 256)       590080    \n",
      "_________________________________________________________________\n",
      "block3_pool (MaxPooling2D)   (None, 18, 18, 256)       0         \n",
      "_________________________________________________________________\n",
      "block4_conv1 (Conv2D)        (None, 18, 18, 512)       1180160   \n",
      "_________________________________________________________________\n",
      "block4_conv2 (Conv2D)        (None, 18, 18, 512)       2359808   \n",
      "_________________________________________________________________\n",
      "block4_conv3 (Conv2D)        (None, 18, 18, 512)       2359808   \n",
      "_________________________________________________________________\n",
      "block4_conv4 (Conv2D)        (None, 18, 18, 512)       2359808   \n",
      "_________________________________________________________________\n",
      "block4_pool (MaxPooling2D)   (None, 9, 9, 512)         0         \n",
      "_________________________________________________________________\n",
      "block5_conv1 (Conv2D)        (None, 9, 9, 512)         2359808   \n",
      "_________________________________________________________________\n",
      "block5_conv2 (Conv2D)        (None, 9, 9, 512)         2359808   \n",
      "_________________________________________________________________\n",
      "block5_conv3 (Conv2D)        (None, 9, 9, 512)         2359808   \n",
      "_________________________________________________________________\n",
      "block5_conv4 (Conv2D)        (None, 9, 9, 512)         2359808   \n",
      "_________________________________________________________________\n",
      "block5_pool (MaxPooling2D)   (None, 4, 4, 512)         0         \n",
      "_________________________________________________________________\n",
      "global_average_pooling2d_1 ( (None, 512)               0         \n",
      "_________________________________________________________________\n",
      "dense_1 (Dense)              (None, 512)               262656    \n",
      "_________________________________________________________________\n",
      "dense_2 (Dense)              (None, 1)                 513       \n",
      "=================================================================\n",
      "Total params: 20,287,553\n",
      "Trainable params: 20,287,553\n",
      "Non-trainable params: 0\n",
      "_________________________________________________________________\n"
     ]
    }
   ],
   "source": [
    " # Model 3\n",
    "# https://keras.io/applications/\n",
    "# We wanted to try a model with pretrained values. \n",
    "\n",
    "from keras.applications import VGG19\n",
    "from keras.preprocessing import image\n",
    "from keras.models import Model\n",
    "from keras.layers import Dense, GlobalAveragePooling2D\n",
    "from keras import backend as K\n",
    "\n",
    "\n",
    "base_model = VGG19(weights='imagenet', include_top= False, input_shape=(150,150,3))\n",
    "\n",
    "# a global spatial average pooling layer \n",
    "x = base_model.output\n",
    "x = GlobalAveragePooling2D()(x)\n",
    "\n",
    "# adding a fully-connected layer\n",
    "x = Dense(512, activation='relu')(x)\n",
    "\n",
    "\n",
    "predictions = Dense(1, activation='sigmoid')(x)\n",
    "\n",
    "# this is the model we will train\n",
    "model = Model(inputs=base_model.input, outputs=predictions)\n",
    "\n",
    "model.summary() "
   ]
  },
  {
   "cell_type": "markdown",
   "metadata": {},
   "source": [
    "We chose to use almoust all the same parameters as in model 1 but we chose SGD optimizer on some parts because it was used in the example we looked at and it gave good results.\n"
   ]
  },
  {
   "cell_type": "markdown",
   "metadata": {},
   "source": [
    "Here we select the layers which are updated, select the training values and train. Never layers first then update the VGG19 models layers."
   ]
  },
  {
   "cell_type": "code",
   "execution_count": 10,
   "metadata": {},
   "outputs": [
    {
     "name": "stdout",
     "output_type": "stream",
     "text": [
      "Epoch 1/3\n",
      "20/20 [==============================] - 414s 21s/step - loss: 0.4020 - val_loss: 0.0895\n",
      "Epoch 2/3\n",
      "20/20 [==============================] - 433s 22s/step - loss: 0.3318 - val_loss: 0.6743\n",
      "Epoch 3/3\n",
      "20/20 [==============================] - 427s 21s/step - loss: 0.3120 - val_loss: 0.5411\n",
      "Training ...Epoch 1/7\n",
      "20/20 [==============================] - 432s 22s/step - loss: 0.2978 - sensitivity_at_specificity_2: 0.9478 - val_loss: 0.1089 - val_sensitivity_at_specificity_2: 0.9667\n",
      "Epoch 2/7\n",
      "20/20 [==============================] - 423s 21s/step - loss: 0.3148 - sensitivity_at_specificity_2: 0.9504 - val_loss: 0.4738 - val_sensitivity_at_specificity_2: 0.9372\n",
      "Epoch 3/7\n",
      "20/20 [==============================] - 474s 24s/step - loss: 0.2859 - sensitivity_at_specificity_2: 0.9405 - val_loss: 0.1958 - val_sensitivity_at_specificity_2: 0.9436\n",
      "Epoch 4/7\n",
      "20/20 [==============================] - 419s 21s/step - loss: 0.2749 - sensitivity_at_specificity_2: 0.9468 - val_loss: 0.4100 - val_sensitivity_at_specificity_2: 0.9466\n",
      "Epoch 5/7\n",
      "20/20 [==============================] - 423s 21s/step - loss: 0.2981 - sensitivity_at_specificity_2: 0.9497 - val_loss: 0.7983 - val_sensitivity_at_specificity_2: 0.9462\n",
      "Epoch 6/7\n",
      "20/20 [==============================] - 432s 22s/step - loss: 0.3221 - sensitivity_at_specificity_2: 0.9468 - val_loss: 0.1631 - val_sensitivity_at_specificity_2: 0.9468\n",
      "Epoch 7/7\n",
      "20/20 [==============================] - 421s 21s/step - loss: 0.3463 - sensitivity_at_specificity_2: 0.9457 - val_loss: 0.3082 - val_sensitivity_at_specificity_2: 0.9445\n"
     ]
    }
   ],
   "source": [
    "import tensorflow as tf\n",
    "\n",
    "\n",
    "# Define metrics\n",
    "my_metrics = [tf.keras.metrics.SensitivityAtSpecificity(0.6)]\n",
    "\n",
    "\n",
    "\n",
    "\n",
    "\n",
    "# freeze pre-trained model area's layer\n",
    "for layer in base_model.layers:\n",
    "    layer.trainable = False\n",
    "\n",
    "# update the weight that are added\n",
    "model.compile(optimizer='rmsprop', loss='binary_crossentropy')\n",
    "model.fit(train_generator, steps_per_epoch = 20,\n",
    "    verbose = 1,\n",
    "    epochs = 3,\n",
    "    validation_data = dev_generator,\n",
    "    validation_steps = 40)\n",
    "\n",
    "layer_num = len(model.layers)\n",
    "for layer in model.layers[:21]:\n",
    "    layer.trainable = False\n",
    "\n",
    "for layer in model.layers[21:]:\n",
    "    layer.trainable = True\n",
    "# training\n",
    "#model.compile(\n",
    "  ##  optimizer = optimizers.RMSprop(learning_rate=0.001, rho=0.9),\n",
    "   # loss='binary_crossentropy',\n",
    "   # metrics = my_metrics)\n",
    "model.compile(optimizer=SGD(lr=0.01, momentum=0.9), loss='binary_crossentropy', metrics= my_metrics)\n",
    "#history = model.fit(train_generator, epochs=2, shuffle=True)\n",
    "\n",
    "E = 7 # Number of epochs\n",
    "\n",
    "# Train the model\n",
    "print('Training ...', end='')\n",
    "history = model.fit_generator(\n",
    "    train_generator,\n",
    "    steps_per_epoch = 20,\n",
    "    verbose = 1,\n",
    "    epochs = E,\n",
    "    validation_data = dev_generator,\n",
    "    validation_steps = 40)\n"
   ]
  },
  {
   "cell_type": "markdown",
   "metadata": {},
   "source": [
    "# Results and Discussion"
   ]
  },
  {
   "cell_type": "markdown",
   "metadata": {},
   "source": [
    "The following results were achieved ..."
   ]
  },
  {
   "cell_type": "markdown",
   "metadata": {},
   "source": [
    "We defined the labels from the training and then tested how the model predicted the outcomes"
   ]
  },
  {
   "cell_type": "code",
   "execution_count": 11,
   "metadata": {},
   "outputs": [],
   "source": [
    "labels3 = dev_generator.classes # Outputs from training\n",
    "predicted3 = model.predict_generator(dev_generator).flatten()  # Predicted values"
   ]
  },
  {
   "cell_type": "markdown",
   "metadata": {},
   "source": [
    "We plotted the ROC curve to determine the right threshold for predicting the outcomes"
   ]
  },
  {
   "cell_type": "code",
   "execution_count": 12,
   "metadata": {},
   "outputs": [
    {
     "data": {
      "image/png": "[encoded data removed]",
      "text/plain": [
       "<Figure size 432x288 with 1 Axes>"
      ]
     },
     "metadata": {
      "needs_background": "light"
     },
     "output_type": "display_data"
    }
   ],
   "source": [
    "# Calculate ROC curve\n",
    "fpr, tpr, thresholds = roc_curve(labels3, predicted3, pos_label = 1)\n",
    "\n",
    "# Plot ROC curve\n",
    "plot(fpr, tpr)\n",
    "plot([0, 1], [0, 1], 'r:')\n",
    "xlabel('False positive rate')\n",
    "ylabel('True positive rate')\n",
    "title('ROC curve')\n",
    "xlim([0, 1])\n",
    "ylim([0, 1])\n",
    "grid()"
   ]
  },
  {
   "cell_type": "markdown",
   "metadata": {},
   "source": [
    "We printed a confusion matrix from our results to see how many false negatives,false positives, true negatives and true positives did our model produce."
   ]
  },
  {
   "cell_type": "code",
   "execution_count": 13,
   "metadata": {},
   "outputs": [
    {
     "name": "stdout",
     "output_type": "stream",
     "text": [
      "Confusion matrix (machine learning way):\n",
      "[[309   8]\n",
      " [261 594]]\n",
      "Confusion matrix (medicine way):\n",
      "[[594 261]\n",
      " [  8 309]]\n"
     ]
    }
   ],
   "source": [
    "# Confusion matrix\n",
    "print('Confusion matrix (machine learning way):')\n",
    "cm = confusion_matrix(labels3, predicted3 > 0.5)\n",
    "print(cm)\n",
    "tn, fp, fn, tp = confusion_matrix(labels3, predicted3 > 0.5).ravel()\n",
    "print('Confusion matrix (medicine way):')\n",
    "print(array([[tp, fn], [fp, tn]]))"
   ]
  },
  {
   "cell_type": "markdown",
   "metadata": {},
   "source": [
    "We printed a classification report from the results to see how well did the model predict if the patient had pneumonia or not."
   ]
  },
  {
   "cell_type": "code",
   "execution_count": 14,
   "metadata": {},
   "outputs": [
    {
     "name": "stdout",
     "output_type": "stream",
     "text": [
      "               precision    recall  f1-score   support\n",
      "\n",
      "   Normal (0)       0.54      0.97      0.70       317\n",
      "Pneumonia (1)       0.99      0.69      0.82       855\n",
      "\n",
      "     accuracy                           0.77      1172\n",
      "    macro avg       0.76      0.83      0.76      1172\n",
      " weighted avg       0.87      0.77      0.78      1172\n",
      "\n"
     ]
    }
   ],
   "source": [
    "# Classification report\n",
    "cr = classification_report(labels3, predicted3 > 0.5, target_names = ['Normal (0)', 'Pneumonia (1)'])\n",
    "print(cr)"
   ]
  },
  {
   "cell_type": "markdown",
   "metadata": {},
   "source": [
    "We plotted a threshold analysis to see what is the best threshold for the model to decide if the patient has pneumonia or not."
   ]
  },
  {
   "cell_type": "code",
   "execution_count": 15,
   "metadata": {},
   "outputs": [
    {
     "data": {
      "image/png": "[encoded data removed]",
      "text/plain": [
       "<Figure size 432x288 with 1 Axes>"
      ]
     },
     "metadata": {
      "needs_background": "light"
     },
     "output_type": "display_data"
    }
   ],
   "source": [
    "# Threhold analysis\n",
    "plot(thresholds, 1 -fpr, label = 'Specificity')\n",
    "plot(thresholds, 1 -tpr, label = 'Sensitivity')\n",
    "axvline(0.6, color = 'red', linestyle = ':')\n",
    "xlim([0, 1])\n",
    "title('Threshold value for prediction')\n",
    "xlabel('Threshold')\n",
    "ylabel('Metrics value')\n",
    "legend()\n",
    "grid()"
   ]
  },
  {
   "cell_type": "markdown",
   "metadata": {},
   "source": [
    "We loaded the best weights used in training and then compiled the model again to be used for validation to see how well the model predicts the outcomes using data it hasn't seen before."
   ]
  },
  {
   "cell_type": "code",
   "execution_count": 16,
   "metadata": {},
   "outputs": [],
   "source": [
    "# Compile model again\n",
    "\n",
    "model.compile(optimizer=SGD(lr=0.01, momentum=0.9), loss='binary_crossentropy', metrics= my_metrics)"
   ]
  },
  {
   "cell_type": "code",
   "execution_count": 17,
   "metadata": {},
   "outputs": [],
   "source": [
    "labels3 = test_generator.classes # Outputs from training\n",
    "predicted3 = model.predict_generator(test_generator).flatten()  # Predicted values using validation data"
   ]
  },
  {
   "cell_type": "markdown",
   "metadata": {},
   "source": [
    "Finally, we calculated all the statistics from the results we got using test data."
   ]
  },
  {
   "cell_type": "code",
   "execution_count": 18,
   "metadata": {},
   "outputs": [
    {
     "name": "stdout",
     "output_type": "stream",
     "text": [
      "Confusion matrix (machine learning way):\n",
      "[[150 167]\n",
      " [401 453]]\n",
      "Confusion matrix (medicine way):\n",
      "[[453 401]\n",
      " [167 150]]\n"
     ]
    }
   ],
   "source": [
    "# Confusion matrix from validation\n",
    "print('Confusion matrix (machine learning way):')\n",
    "cm = confusion_matrix(labels3, predicted3 > 0.5)\n",
    "print(cm)\n",
    "tn, fp, fn, tp = confusion_matrix(labels3, predicted3 > 0.5).ravel()\n",
    "print('Confusion matrix (medicine way):')\n",
    "print(array([[tp, fn], [fp, tn]]))"
   ]
  },
  {
   "cell_type": "code",
   "execution_count": 19,
   "metadata": {},
   "outputs": [
    {
     "name": "stdout",
     "output_type": "stream",
     "text": [
      "               precision    recall  f1-score   support\n",
      "\n",
      "   Normal (0)       0.27      0.47      0.35       317\n",
      "Pneumonia (1)       0.73      0.53      0.61       854\n",
      "\n",
      "     accuracy                           0.51      1171\n",
      "    macro avg       0.50      0.50      0.48      1171\n",
      " weighted avg       0.61      0.51      0.54      1171\n",
      "\n"
     ]
    }
   ],
   "source": [
    "# Classification report from validation\n",
    "cr = classification_report(labels3, predicted3 > 0.5, target_names = ['Normal (0)', 'Pneumonia (1)'])\n",
    "print(cr)"
   ]
  },
  {
   "cell_type": "markdown",
   "metadata": {},
   "source": [
    "# Conclusions"
   ]
  },
  {
   "cell_type": "markdown",
   "metadata": {},
   "source": [
    "To summarize we found out that this model was not so efficient in solving this problem.\n",
    "20 million parameter model makes the training a long process. \n",
    "By adding layers to the pretrained model possibly affected it negatively.\n",
    "While training the model did not show significant improvement.\n",
    "The results in testing were significantly worse because the model was trained with augmended images and got used to them. \n",
    "Without the augmentation the result were better.\n",
    "In this run we tried to train the model longer and got the worst outcome. At best this model could achive 80% accuracy. \n",
    "\n",
    "The final conclusion of the 3 models in on a separative notebook."
   ]
  }
 ],
 "metadata": {
  "kernelspec": {
   "display_name": "Python 3",
   "language": "python",
   "name": "python3"
  },
  "language_info": {
   "codemirror_mode": {
    "name": "ipython",
    "version": 3
   },
   "file_extension": ".py",
   "mimetype": "text/x-python",
   "name": "python",
   "nbconvert_exporter": "python",
   "pygments_lexer": "ipython3",
   "version": "3.7.4"
  },
  "toc": {
   "base_numbering": 1,
   "nav_menu": {},
   "number_sections": true,
   "sideBar": true,
   "skip_h1_title": false,
   "title_cell": "Table of Contents",
   "title_sidebar": "Contents",
   "toc_cell": true,
   "toc_position": {},
   "toc_section_display": true,
   "toc_window_display": false
  }
 },
 "nbformat": 4,
 "nbformat_minor": 2
}
